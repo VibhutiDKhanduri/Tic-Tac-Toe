{
 "cells": [
  {
   "cell_type": "code",
   "execution_count": null,
   "metadata": {},
   "outputs": [],
   "source": []
  },
  {
   "cell_type": "code",
   "execution_count": null,
   "metadata": {},
   "outputs": [],
   "source": []
  },
  {
   "cell_type": "code",
   "execution_count": 1,
   "metadata": {},
   "outputs": [],
   "source": [
    "#code to clear previous output\n",
    "from IPython.display import clear_output\n",
    "clear_output(wait=True)"
   ]
  },
  {
   "cell_type": "code",
   "execution_count": 2,
   "metadata": {},
   "outputs": [],
   "source": [
    "def firstmove():\n",
    "    ''' \n",
    "    Validate correct symbol and allocate X and O to players\n",
    "    '''    \n",
    "    print(\"----------Player 1 goes first---------------\")\n",
    "    while True:\n",
    "            \n",
    "            player1=input(\"Player 1 choose between O or X  \")\n",
    "            player1 = player1.lower() \n",
    "            if player1==\"o\" or player1=='x':\n",
    "                break\n",
    "            else:\n",
    "                print(\"Sorry wrong input\")\n",
    "                clear_output()\n",
    "    if player1=='o':\n",
    "        player2='x'\n",
    "    elif player1=='x':\n",
    "        player2=\"o\"\n",
    "    \n",
    "    return player1,player2\n",
    "    \n",
    "    "
   ]
  },
  {
   "cell_type": "code",
   "execution_count": null,
   "metadata": {},
   "outputs": [],
   "source": []
  },
  {
   "cell_type": "code",
   "execution_count": null,
   "metadata": {},
   "outputs": [],
   "source": [
    "\n"
   ]
  },
  {
   "cell_type": "code",
   "execution_count": 3,
   "metadata": {},
   "outputs": [],
   "source": [
    "def display_positions(gamelist):\n",
    "    '''\n",
    "    Display the current player positions on the board\n",
    "    '''   \n",
    "    for row in range(len(gamelist)):\n",
    "        for col in range(len(gamelist[0])):\n",
    "            print(gamelist[row][col],end='')\n",
    "        print(\"\\n\")"
   ]
  },
  {
   "cell_type": "code",
   "execution_count": null,
   "metadata": {},
   "outputs": [],
   "source": []
  },
  {
   "cell_type": "code",
   "execution_count": 4,
   "metadata": {},
   "outputs": [],
   "source": [
    "def enter_position(gamelist):\n",
    "    '''\n",
    "    First check if the position entered is valid then check if the position entered is empty or not\n",
    "    '''\n",
    "    choice =input('Enter the position between 1-9\\t->')\n",
    "    while choice not in ['1','2','3','4','5','6','7','8','9']:\n",
    "        print('Sorry I didnt understand, please enter the correct position between 1-9')\n",
    "        choice =input('Enter the position between 1-9\\n')\n",
    "        clear_output()\n",
    "    while check_empty(gamelist,choice)==False:\n",
    "        print('Sorry this position is already occupied. Choose another position :)')\n",
    "        choice =input('Enter the position between 1-9\\n')\n",
    "        clear_output()\n",
    "        \n",
    "    return choice\n",
    "        "
   ]
  },
  {
   "cell_type": "code",
   "execution_count": 5,
   "metadata": {},
   "outputs": [],
   "source": [
    "def update_position(gamelist,position,symbol):\n",
    "        '''\n",
    "        Update the new move of the player, with his designated symbol\n",
    "        '''\n",
    "        \n",
    "        \n",
    "        if position=='7':\n",
    "        \n",
    "            gamelist[0][0]=symbol\n",
    "        elif position=='8':\n",
    "            gamelist[0][2]=symbol\n",
    "        elif position=='9':\n",
    "            gamelist[0][4]=symbol\n",
    "        elif position=='4':\n",
    "            gamelist[1][0]=symbol\n",
    "        elif position=='5':\n",
    "            gamelist[1][2]=symbol\n",
    "        elif position=='6':\n",
    "            gamelist[1][4]=symbol\n",
    "        elif position=='1':\n",
    "            gamelist[2][0]=symbol\n",
    "        elif position=='2':\n",
    "            gamelist[2][2]=symbol\n",
    "        elif position=='3':\n",
    "            gamelist[2][4]=symbol\n",
    "        \n",
    "        return gamelist\n",
    "        \n",
    "        "
   ]
  },
  {
   "cell_type": "code",
   "execution_count": null,
   "metadata": {},
   "outputs": [],
   "source": []
  },
  {
   "cell_type": "code",
   "execution_count": 6,
   "metadata": {},
   "outputs": [],
   "source": [
    "def lets_play():\n",
    "    '''\n",
    "    Alternate between player 1 and player 2.\n",
    "    Total 9 positions on the board so 9 moves allowed\n",
    "    \n",
    "    '''\n",
    "    gamelist=[['7',\"\\t\",\"8\",\"\\t\",\"9\"],\n",
    "          ['4',\"\\t\",\"5\",\"\\t\",\"6\"],\n",
    "          ['1',\"\\t\",\"2\",\"\\t\",\"3\"]]\n",
    "\n",
    "    player1,player2=firstmove()\n",
    "    count=0\n",
    "    winner=''\n",
    "    while count<9 and check_winner(gamelist,player1,player2)==None:\n",
    "        if count%2==0:\n",
    "            print('Player 1 your turn\\n')\n",
    "            display_positions(gamelist)\n",
    "            choice= enter_position(gamelist)\n",
    "            clear_output()\n",
    "            gamelist=update_position(gamelist,choice,player1)\n",
    "        else:\n",
    "            print('Player 2 your turn\\n')\n",
    "            display_positions(gamelist)\n",
    "            choice= enter_position(gamelist)\n",
    "            clear_output()\n",
    "            gamelist=update_position(gamelist,choice,player2)\n",
    "        \n",
    "        count = count + 1\n",
    "    winner = check_winner(gamelist,player1,player2)\n",
    "    if winner == player1:\n",
    "        print(\"Congratulations Player 1, You Win\\n\")\n",
    "        display_positions(gamelist)\n",
    "    elif winner == player2:\n",
    "        print(\"Congratulations Player 2, You Win\\n\")\n",
    "        display_positions(gamelist)\n",
    "    else:\n",
    "        print(\"Its a draw\")  \n",
    "    \n",
    "    \n",
    "        \n",
    "        \n",
    "    \n"
   ]
  },
  {
   "cell_type": "code",
   "execution_count": 7,
   "metadata": {},
   "outputs": [],
   "source": [
    "def check_empty(gamelist,position):\n",
    "        '''\n",
    "        Check if the position entered by player is already filled or not\n",
    "        '''\n",
    "        if position =='7' and gamelist[0][0] !='7' :\n",
    "            return False\n",
    "        elif position =='8' and gamelist[0][2] !='8' :\n",
    "            return False\n",
    "        elif position=='9' and gamelist[0][4]!='9':\n",
    "            return False\n",
    "        elif position=='4' and gamelist[1][0]!='4':\n",
    "            return False\n",
    "        elif position=='5' and gamelist[1][2]!='5':\n",
    "            return False\n",
    "        elif position=='6' and gamelist[1][4]!='6':\n",
    "            return False\n",
    "        elif position=='1' and gamelist[2][0]!='1':\n",
    "            return False\n",
    "        elif position=='2' and gamelist[2][2]!='2':\n",
    "            return False\n",
    "        elif position=='3' and gamelist[2][4]!='3':\n",
    "            return False\n",
    "        else :\n",
    "            return True\n",
    "        "
   ]
  },
  {
   "cell_type": "code",
   "execution_count": 8,
   "metadata": {},
   "outputs": [],
   "source": [
    "def check_winner(gamelist,player1,player2):\n",
    "    '''\n",
    "    Check who wins\n",
    "    '''\n",
    "    for row in range(len(gamelist)):\n",
    "        if gamelist[row][0]==gamelist[row][2]==gamelist[row][4]:\n",
    "            if gamelist[row][0]==player1:\n",
    "                return player1\n",
    "            else:\n",
    "                return player2\n",
    "    for col in range(0,len(gamelist[0]),2):\n",
    "        if gamelist[0][col]==gamelist[1][col]==gamelist[2][col]:\n",
    "            if gamelist[0][col]==player1:\n",
    "                return player1\n",
    "            else:\n",
    "                return player2\n",
    "    if (gamelist[0][0]==gamelist[1][2]==gamelist[2][4]) or (gamelist[2][0]==gamelist[1][2]==gamelist[0][4]) :\n",
    "        if gamelist[1][2]==player1:\n",
    "            return player1\n",
    "        else:\n",
    "            return player2\n",
    "   \n",
    "    return None      "
   ]
  },
  {
   "cell_type": "code",
   "execution_count": 9,
   "metadata": {},
   "outputs": [],
   "source": [
    "def tictactoe():\n",
    "    choice ='y'\n",
    "    while choice=='y': \n",
    "        lets_play()\n",
    "        print('\\n--------GAME OVER----------\\n')\n",
    "        choice=input('Want to play again ? Y/N ?')\n",
    "        choice = choice.lower()\n",
    "        clear_output()\n",
    "        while choice not in ['y','n']:\n",
    "            print(\"Sorry. I didnt understand. Please try again.\")\n",
    "            choice = input('Want to play again -> Y/N ?').lower()\n",
    "            \n",
    "    print('Thanks for Playing !')\n",
    "            \n"
   ]
  },
  {
   "cell_type": "code",
   "execution_count": 10,
   "metadata": {},
   "outputs": [
    {
     "name": "stdout",
     "output_type": "stream",
     "text": [
      "Sorry. I didnt understand. Please try again.\n",
      "Want to play again -> Y/N ?n\n",
      "Thanks for Playing !\n"
     ]
    }
   ],
   "source": [
    "tictactoe()"
   ]
  },
  {
   "cell_type": "code",
   "execution_count": null,
   "metadata": {},
   "outputs": [],
   "source": []
  }
 ],
 "metadata": {
  "kernelspec": {
   "display_name": "Python 3",
   "language": "python",
   "name": "python3"
  },
  "language_info": {
   "codemirror_mode": {
    "name": "ipython",
    "version": 3
   },
   "file_extension": ".py",
   "mimetype": "text/x-python",
   "name": "python",
   "nbconvert_exporter": "python",
   "pygments_lexer": "ipython3",
   "version": "3.7.8"
  }
 },
 "nbformat": 4,
 "nbformat_minor": 4
}
